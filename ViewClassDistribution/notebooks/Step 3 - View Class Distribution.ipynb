{
 "cells": [
  {
   "cell_type": "code",
   "execution_count": null,
   "metadata": {},
   "outputs": [],
   "source": [
    "import glob, json, logging, os, skimage.color, skimage.draw, skimage.io, sys, utils, visualize\n",
    "import matplotlib as mpl\n",
    "import matplotlib.pyplot as plt\n",
    "import numpy as np\n",
    "import pandas as pd\n",
    "import seaborn as sns\n",
    "from collections import defaultdict, Counter\n",
    "from jsonmerge import merge"
   ]
  },
  {
   "cell_type": "code",
   "execution_count": 2,
   "metadata": {},
   "outputs": [],
   "source": [
    "%matplotlib inline"
   ]
  },
  {
   "cell_type": "code",
   "execution_count": 3,
   "metadata": {},
   "outputs": [],
   "source": [
    "input_frames_path = '/mnt/raw/frames'\n",
    "\n",
    "encodings_path = '/mnt/raw/frames/encoding.csv'"
   ]
  },
  {
   "cell_type": "markdown",
   "metadata": {},
   "source": [
    "### Class Distribution"
   ]
  },
  {
   "cell_type": "code",
   "execution_count": 107,
   "metadata": {},
   "outputs": [],
   "source": [
    "def load_json_property(file_path, p):\n",
    "    values = []\n",
    "\n",
    "    def _decode_dict(a_dict):\n",
    "        try:\n",
    "            values.append(a_dict[p])\n",
    "            if (a_dict[p] == 'xxx'):\n",
    "                print(a_dict)\n",
    "                print(a_dict[p])\n",
    "        except KeyError: pass\n",
    "        return a_dict\n",
    "\n",
    "    if file_path:\n",
    "        with open(file_path, 'r') as f:\n",
    "            data = json.load(f, object_hook=_decode_dict)\n",
    "\n",
    "    return values"
   ]
  },
  {
   "cell_type": "code",
   "execution_count": 116,
   "metadata": {},
   "outputs": [],
   "source": [
    "def merge_json_property(folders, p):\n",
    "    values = [];\n",
    "\n",
    "    for folder in folders:\n",
    "        for file_path in glob.iglob(os.path.join(folder, '*.json')):\n",
    "            if file_path:\n",
    "                print('Found JSON {0}'.format(file_path))\n",
    "                values.extend(load_json_property(file_path, p))\n",
    "    return values"
   ]
  },
  {
   "cell_type": "code",
   "execution_count": 186,
   "metadata": {},
   "outputs": [],
   "source": [
    "out_folder_name = 'proposed'\n",
    "\n",
    "folders = []\n",
    "\n",
    "for dirpath, dirnames, filenames in os.walk(input_frames_path):\n",
    "    if out_folder_name in dirpath:\n",
    "        folders.append(dirpath)"
   ]
  },
  {
   "cell_type": "code",
   "execution_count": 187,
   "metadata": {},
   "outputs": [
    {
     "name": "stdout",
     "output_type": "stream",
     "text": [
      "Found JSON C:\\Users\\stvanbod\\Documents\\NT Fisheries\\Matching\\BICPB1-20161011-3.MP4\\proposed\\BICPB1-20161011-3.MP4.json\n",
      "Found JSON C:\\Users\\stvanbod\\Documents\\NT Fisheries\\Matching\\BICPB2-20161011-1.MP4\\proposed\\BICPB2-20161011-1.MP4.json\n",
      "Found JSON C:\\Users\\stvanbod\\Documents\\NT Fisheries\\Matching\\BICPB2-20161011-3.MP4\\proposed\\BICPB2-20161011-3.MP4.json\n",
      "Found JSON C:\\Users\\stvanbod\\Documents\\NT Fisheries\\Matching\\BICPB3-20160417-1.MP4\\proposed\\BICPB3-20160417-1.MP4.json\n",
      "Found JSON C:\\Users\\stvanbod\\Documents\\NT Fisheries\\Matching\\BICPB3-20161011-3.MP4\\proposed\\BICPB3-20161011-3.MP4.json\n",
      "Found JSON C:\\Users\\stvanbod\\Documents\\NT Fisheries\\Matching\\BIH1B3-20161010-1.MP4\\proposed\\BIH1B3-20161010-1.MP4.json\n",
      "Found JSON C:\\Users\\stvanbod\\Documents\\NT Fisheries\\Matching\\BIH2B3-20161010-2.MP4\\proposed\\BIH2B3-20161010-2.MP4.json\n",
      "Found JSON C:\\Users\\stvanbod\\Documents\\NT Fisheries\\Matching\\BIH2B3-20161010-3.MP4\\proposed\\BIH2B3-20161010-3.MP4.json\n",
      "Found JSON C:\\Users\\stvanbod\\Documents\\NT Fisheries\\Matching\\BOH3B2-20161011-2.MP4\\proposed\\BOH3B2-20161011-2.MP4.json\n",
      "Found JSON C:\\Users\\stvanbod\\Documents\\NT Fisheries\\Matching\\LIS2B3-20171030-4.MP4\\proposed\\LIS2B3-20171030-4.MP4.json\n",
      "Found JSON C:\\Users\\stvanbod\\Documents\\NT Fisheries\\Matching\\LIS2B4-20170817-1.MP4\\proposed\\LIS2B4-20170817-1.MP4.json\n",
      "Found JSON C:\\Users\\stvanbod\\Documents\\NT Fisheries\\Matching\\LIS3B2-20170706-3.MP4\\proposed\\LIS3B2-20170706-3.MP4.json\n",
      "Found JSON C:\\Users\\stvanbod\\Documents\\NT Fisheries\\Matching\\LOS5B2-20170705-3.MP4\\proposed\\LOS5B2-20170705-3.MP4.json\n"
     ]
    }
   ],
   "source": [
    "values = merge_json_property(folders, 'Category')"
   ]
  },
  {
   "cell_type": "code",
   "execution_count": 188,
   "metadata": {},
   "outputs": [],
   "source": [
    "counts = Counter(values)"
   ]
  },
  {
   "cell_type": "code",
   "execution_count": 189,
   "metadata": {},
   "outputs": [],
   "source": [
    "categories = sorted([(category, count) for category, count in counts.items()], key=lambda x: x[1])\n",
    "categories.reverse()"
   ]
  },
  {
   "cell_type": "code",
   "execution_count": 190,
   "metadata": {},
   "outputs": [],
   "source": [
    "encodings = pd.read_csv(encodings_path)"
   ]
  },
  {
   "cell_type": "code",
   "execution_count": 192,
   "metadata": {},
   "outputs": [],
   "source": [
    "df = pd.DataFrame(categories)"
   ]
  },
  {
   "cell_type": "code",
   "execution_count": 193,
   "metadata": {},
   "outputs": [],
   "source": [
    "df = df.rename(columns={0:'Category', 1:'Count'})"
   ]
  },
  {
   "cell_type": "code",
   "execution_count": 194,
   "metadata": {},
   "outputs": [],
   "source": [
    "df = pd.merge(df, encodings, how='left', left_on='Category', right_on='Code')"
   ]
  },
  {
   "cell_type": "code",
   "execution_count": 196,
   "metadata": {},
   "outputs": [
    {
     "data": {
      "text/html": [
       "<div>\n",
       "<style scoped>\n",
       "    .dataframe tbody tr th:only-of-type {\n",
       "        vertical-align: middle;\n",
       "    }\n",
       "\n",
       "    .dataframe tbody tr th {\n",
       "        vertical-align: top;\n",
       "    }\n",
       "\n",
       "    .dataframe thead th {\n",
       "        text-align: right;\n",
       "    }\n",
       "</style>\n",
       "<table border=\"1\" class=\"dataframe\">\n",
       "  <thead>\n",
       "    <tr style=\"text-align: right;\">\n",
       "      <th></th>\n",
       "      <th>Count</th>\n",
       "      <th>Species</th>\n",
       "    </tr>\n",
       "  </thead>\n",
       "  <tbody>\n",
       "    <tr>\n",
       "      <th>0</th>\n",
       "      <td>1067</td>\n",
       "      <td>Striped Snapper</td>\n",
       "    </tr>\n",
       "    <tr>\n",
       "      <th>1</th>\n",
       "      <td>269</td>\n",
       "      <td>Goldspotted cod</td>\n",
       "    </tr>\n",
       "    <tr>\n",
       "      <th>2</th>\n",
       "      <td>173</td>\n",
       "      <td>Grass Emporer</td>\n",
       "    </tr>\n",
       "    <tr>\n",
       "      <th>3</th>\n",
       "      <td>169</td>\n",
       "      <td>Golden Snapper</td>\n",
       "    </tr>\n",
       "    <tr>\n",
       "      <th>4</th>\n",
       "      <td>101</td>\n",
       "      <td>Indonesian Snapper</td>\n",
       "    </tr>\n",
       "    <tr>\n",
       "      <th>5</th>\n",
       "      <td>55</td>\n",
       "      <td>Blue Tuskfish</td>\n",
       "    </tr>\n",
       "    <tr>\n",
       "      <th>6</th>\n",
       "      <td>39</td>\n",
       "      <td>Northern Black Jewfish</td>\n",
       "    </tr>\n",
       "    <tr>\n",
       "      <th>7</th>\n",
       "      <td>26</td>\n",
       "      <td>18</td>\n",
       "    </tr>\n",
       "    <tr>\n",
       "      <th>8</th>\n",
       "      <td>10</td>\n",
       "      <td>Inshore Surgeonfish</td>\n",
       "    </tr>\n",
       "    <tr>\n",
       "      <th>9</th>\n",
       "      <td>5</td>\n",
       "      <td>Spotted Javelinfish</td>\n",
       "    </tr>\n",
       "    <tr>\n",
       "      <th>10</th>\n",
       "      <td>4</td>\n",
       "      <td>Giant Trevally</td>\n",
       "    </tr>\n",
       "    <tr>\n",
       "      <th>11</th>\n",
       "      <td>2</td>\n",
       "      <td>17</td>\n",
       "    </tr>\n",
       "    <tr>\n",
       "      <th>12</th>\n",
       "      <td>1</td>\n",
       "      <td>Scribbled Anglefish</td>\n",
       "    </tr>\n",
       "    <tr>\n",
       "      <th>13</th>\n",
       "      <td>1</td>\n",
       "      <td>Fringefin Trevally</td>\n",
       "    </tr>\n",
       "  </tbody>\n",
       "</table>\n",
       "</div>"
      ],
      "text/plain": [
       "    Count                 Species\n",
       "0    1067         Striped Snapper\n",
       "1     269         Goldspotted cod\n",
       "2     173           Grass Emporer\n",
       "3     169          Golden Snapper\n",
       "4     101      Indonesian Snapper\n",
       "5      55           Blue Tuskfish\n",
       "6      39  Northern Black Jewfish\n",
       "7      26                      18\n",
       "8      10     Inshore Surgeonfish\n",
       "9       5     Spotted Javelinfish\n",
       "10      4          Giant Trevally\n",
       "11      2                      17\n",
       "12      1     Scribbled Anglefish\n",
       "13      1      Fringefin Trevally"
      ]
     },
     "execution_count": 196,
     "metadata": {},
     "output_type": "execute_result"
    }
   ],
   "source": [
    "df[['Count', 'Species']]"
   ]
  },
  {
   "cell_type": "code",
   "execution_count": 203,
   "metadata": {},
   "outputs": [
    {
     "data": {
      "image/png": "[encoded data removed]",
      "text/plain": [
       "<matplotlib.figure.Figure at 0x21b1c3bbc18>"
      ]
     },
     "metadata": {},
     "output_type": "display_data"
    }
   ],
   "source": [
    "xlim = 0\n",
    "\n",
    "f, ax = plt.subplots(figsize=(6, 15))\n",
    "\n",
    "ax = sns.barplot(x=\"Count\", y=\"Species\", data=df);\n",
    "\n",
    "for index, row in df.iterrows():\n",
    "    x = row.Count + 45\n",
    "    y = index\n",
    "    s = row.Count\n",
    "    if x > xlim:\n",
    "        xlim = x + 45\n",
    "    ax.text(x, y, s, ha=\"center\")\n",
    "\n",
    "ax.set_xlim([0, xlim])\n",
    "\n",
    "plt.show()"
   ]
  },
  {
   "cell_type": "code",
   "execution_count": null,
   "metadata": {},
   "outputs": [],
   "source": []
  }
 ],
 "metadata": {
  "kernelspec": {
   "display_name": "Python 3",
   "language": "python",
   "name": "python3"
  },
  "language_info": {
   "codemirror_mode": {
    "name": "ipython",
    "version": 3
   },
   "file_extension": ".py",
   "mimetype": "text/x-python",
   "name": "python",
   "nbconvert_exporter": "python",
   "pygments_lexer": "ipython3",
   "version": "3.5.4"
  }
 },
 "nbformat": 4,
 "nbformat_minor": 2
}
