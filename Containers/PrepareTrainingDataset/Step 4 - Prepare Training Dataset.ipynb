{
 "cells": [
  {
   "cell_type": "code",
   "execution_count": 1,
   "metadata": {},
   "outputs": [],
   "source": [
    "import glob, json, os, sys, time\n",
    "from jsonmerge import merge\n",
    "from shutil import copyfile"
   ]
  },
  {
   "cell_type": "markdown",
   "metadata": {},
   "source": [
    "### Create Train and Validate Folders"
   ]
  },
  {
   "cell_type": "code",
   "execution_count": 2,
   "metadata": {},
   "outputs": [
    {
     "name": "stdout",
     "output_type": "stream",
     "text": [
      "Training Dataset:\n",
      "201807250642\n"
     ]
    }
   ],
   "source": [
    "now = time.strftime(\"%Y%m%d%H%M\", time.localtime(int(time.time())))\n",
    "\n",
    "print('Training Dataset:')\n",
    "print(now)"
   ]
  },
  {
   "cell_type": "code",
   "execution_count": 3,
   "metadata": {},
   "outputs": [],
   "source": [
    "file_system = '/mnt'\n",
    "\n",
    "input_frames_path = os.path.join(file_system, 'ntfisheriesstoreeastdev', 'labeledframes')\n",
    "\n",
    "model_training_path = os.path.join(file_system, 'ntfisheriesstoreeastdev', 'modeltraining')\n",
    "\n",
    "output_model_training_train_path = os.path.join(model_training_path, now, 'train')\n",
    "output_model_training_validate_path = os.path.join(model_training_path, now, 'validate')\n",
    "\n",
    "output_model_training_train_json = os.path.join(output_model_training_train_path, 'via_region_data_train.json')\n",
    "output_model_training_validate_json = os.path.join(output_model_training_validate_path, 'via_region_data_validate.json')"
   ]
  },
  {
   "cell_type": "code",
   "execution_count": 4,
   "metadata": {},
   "outputs": [],
   "source": [
    "os.makedirs(output_model_training_train_path)\n",
    "os.makedirs(output_model_training_validate_path)"
   ]
  },
  {
   "cell_type": "code",
   "execution_count": 5,
   "metadata": {},
   "outputs": [],
   "source": [
    "def print_list(l):\n",
    "    for item in l:\n",
    "        print(item)"
   ]
  },
  {
   "cell_type": "code",
   "execution_count": 6,
   "metadata": {},
   "outputs": [
    {
     "name": "stdout",
     "output_type": "stream",
     "text": [
      "Folders containing labeled frames:\n",
      "/mnt/ntfisheriesstoreeastdev/labeledframes/Bathurst/Bathurst-20160415/BICPB3-20160417-1.MP4\n",
      "/mnt/ntfisheriesstoreeastdev/labeledframes/Bathurst/Bathurst-20161010/BICPB1-20161011-3.MP4\n",
      "/mnt/ntfisheriesstoreeastdev/labeledframes/Bathurst/Bathurst-20161010/BICPB2-20161011-1.MP4\n",
      "/mnt/ntfisheriesstoreeastdev/labeledframes/Bathurst/Bathurst-20161010/BICPB2-20161011-3.MP4\n",
      "/mnt/ntfisheriesstoreeastdev/labeledframes/Bathurst/Bathurst-20161010/BICPB3-20161011-3.MP4\n",
      "/mnt/ntfisheriesstoreeastdev/labeledframes/Bathurst/Bathurst-20161010/BIH1B3-20161010-1.MP4\n",
      "/mnt/ntfisheriesstoreeastdev/labeledframes/Bathurst/Bathurst-20161010/BIH2B3-20161010-2.MP4\n",
      "/mnt/ntfisheriesstoreeastdev/labeledframes/Bathurst/Bathurst-20161010/BIH2B3-20161010-3.MP4\n",
      "/mnt/ntfisheriesstoreeastdev/labeledframes/Bathurst/Bathurst-20161010/BOH3B2-20161011-2.MP4\n",
      "/mnt/ntfisheriesstoreeastdev/labeledframes/Lorna/Lorna-20170705/LIS3B2-20170706-3.MP4\n",
      "/mnt/ntfisheriesstoreeastdev/labeledframes/Lorna/Lorna-20170705/LOS5B2-20170705-3.MP4\n",
      "/mnt/ntfisheriesstoreeastdev/labeledframes/Lorna/Lorna-20170817/LIS2B4-20170817-1.MP4\n",
      "/mnt/ntfisheriesstoreeastdev/labeledframes/Lorna/Lorna-20171030/LIS2B3-20171030-4.MP4\n"
     ]
    }
   ],
   "source": [
    "folders = []\n",
    "\n",
    "for dirpath, dirnames, filenames in os.walk(input_frames_path):\n",
    "    if not dirnames:\n",
    "        if len([file_path for file_path in glob.iglob(os.path.join(dirpath, '*.json'))]) > 0:\n",
    "            folders.append(dirpath)\n",
    "\n",
    "print('Folders containing labeled frames:')\n",
    "print_list(folders)"
   ]
  },
  {
   "cell_type": "markdown",
   "metadata": {},
   "source": [
    "### Train and Validate Sets"
   ]
  },
  {
   "cell_type": "code",
   "execution_count": 7,
   "metadata": {},
   "outputs": [
    {
     "name": "stdout",
     "output_type": "stream",
     "text": [
      "Folders being used to create Training dataset\n",
      "/mnt/ntfisheriesstoreeastdev/labeledframes/Bathurst/Bathurst-20160415/BICPB3-20160417-1.MP4\n",
      "/mnt/ntfisheriesstoreeastdev/labeledframes/Bathurst/Bathurst-20161010/BICPB1-20161011-3.MP4\n",
      "/mnt/ntfisheriesstoreeastdev/labeledframes/Bathurst/Bathurst-20161010/BICPB2-20161011-1.MP4\n",
      "/mnt/ntfisheriesstoreeastdev/labeledframes/Bathurst/Bathurst-20161010/BICPB2-20161011-3.MP4\n",
      "/mnt/ntfisheriesstoreeastdev/labeledframes/Bathurst/Bathurst-20161010/BICPB3-20161011-3.MP4\n",
      "/mnt/ntfisheriesstoreeastdev/labeledframes/Bathurst/Bathurst-20161010/BIH1B3-20161010-1.MP4\n",
      "/mnt/ntfisheriesstoreeastdev/labeledframes/Bathurst/Bathurst-20161010/BIH2B3-20161010-2.MP4\n",
      "/mnt/ntfisheriesstoreeastdev/labeledframes/Bathurst/Bathurst-20161010/BIH2B3-20161010-3.MP4\n",
      "/mnt/ntfisheriesstoreeastdev/labeledframes/Bathurst/Bathurst-20161010/BOH3B2-20161011-2.MP4\n",
      "/mnt/ntfisheriesstoreeastdev/labeledframes/Lorna/Lorna-20170705/LIS3B2-20170706-3.MP4\n",
      "Folders being used to create Validation dataset\n",
      "/mnt/ntfisheriesstoreeastdev/labeledframes/Lorna/Lorna-20170705/LOS5B2-20170705-3.MP4\n",
      "/mnt/ntfisheriesstoreeastdev/labeledframes/Lorna/Lorna-20170817/LIS2B4-20170817-1.MP4\n",
      "/mnt/ntfisheriesstoreeastdev/labeledframes/Lorna/Lorna-20171030/LIS2B3-20171030-4.MP4\n"
     ]
    }
   ],
   "source": [
    "folders_count = len(folders)\n",
    "folders_train_count = int(folders_count * .8)\n",
    "\n",
    "folders_train = folders[0:folders_train_count]\n",
    "folders_validate = folders[folders_train_count:]\n",
    "\n",
    "print('Folders being used to create Training dataset')\n",
    "print_list(folders_train)\n",
    "\n",
    "print('Folders being used to create Validation dataset')\n",
    "print_list(folders_validate)"
   ]
  },
  {
   "cell_type": "markdown",
   "metadata": {},
   "source": [
    "### Train and Validate JSON"
   ]
  },
  {
   "cell_type": "code",
   "execution_count": 8,
   "metadata": {},
   "outputs": [],
   "source": [
    "def load_json(file_path):\n",
    "    if file_path:\n",
    "        with open(file_path, 'r') as f:\n",
    "            data = json.load(f)\n",
    "            return data"
   ]
  },
  {
   "cell_type": "code",
   "execution_count": 9,
   "metadata": {},
   "outputs": [],
   "source": [
    "def merge_json(folders):\n",
    "    merged_json = {};\n",
    "\n",
    "    for folder in folders:\n",
    "        for file_path in glob.iglob(os.path.join(folder, '*.json')):\n",
    "            json_file = load_json(file_path)\n",
    "\n",
    "            if(merged_json == None):\n",
    "                merged_json = json_file\n",
    "            else:\n",
    "                merged_json = merge(merged_json, json_file)\n",
    "\n",
    "    return merged_json"
   ]
  },
  {
   "cell_type": "code",
   "execution_count": 10,
   "metadata": {},
   "outputs": [],
   "source": [
    "json_train = merge_json(folders_train)"
   ]
  },
  {
   "cell_type": "code",
   "execution_count": 11,
   "metadata": {},
   "outputs": [],
   "source": [
    "json_validate = merge_json(folders_validate)"
   ]
  },
  {
   "cell_type": "code",
   "execution_count": 12,
   "metadata": {},
   "outputs": [],
   "source": [
    "with open(output_model_training_train_json, 'w') as f:\n",
    "    json.dump(json_train, f)"
   ]
  },
  {
   "cell_type": "code",
   "execution_count": 13,
   "metadata": {},
   "outputs": [],
   "source": [
    "with open(output_model_training_validate_json, 'w') as f:\n",
    "    json.dump(json_validate, f)"
   ]
  },
  {
   "cell_type": "markdown",
   "metadata": {},
   "source": [
    "### Train and Validate Data"
   ]
  },
  {
   "cell_type": "code",
   "execution_count": 14,
   "metadata": {},
   "outputs": [],
   "source": [
    "def copy_frames(folders, output_folder_path):\n",
    "    for folder in folders:\n",
    "        print('Copying folder {0}'.format(folder))\n",
    "\n",
    "        files = [file for file in os.listdir(folder) if not file.endswith(\".csv\") and not file.endswith(\".db\") and not file.endswith(\".json\")]\n",
    "\n",
    "        for file_name in files:\n",
    "            src = os.path.join(folder, file_name)\n",
    "            dst = os.path.join(output_folder_path, file_name)\n",
    "            copyfile(src, dst)\n",
    "\n",
    "    print('Finished copying...')"
   ]
  },
  {
   "cell_type": "code",
   "execution_count": 15,
   "metadata": {},
   "outputs": [
    {
     "name": "stdout",
     "output_type": "stream",
     "text": [
      "Copying folder /mnt/ntfisheriesstoreeastdev/labeledframes/Bathurst/Bathurst-20160415/BICPB3-20160417-1.MP4\n",
      "Copying folder /mnt/ntfisheriesstoreeastdev/labeledframes/Bathurst/Bathurst-20161010/BICPB1-20161011-3.MP4\n",
      "Copying folder /mnt/ntfisheriesstoreeastdev/labeledframes/Bathurst/Bathurst-20161010/BICPB2-20161011-1.MP4\n",
      "Copying folder /mnt/ntfisheriesstoreeastdev/labeledframes/Bathurst/Bathurst-20161010/BICPB2-20161011-3.MP4\n",
      "Copying folder /mnt/ntfisheriesstoreeastdev/labeledframes/Bathurst/Bathurst-20161010/BICPB3-20161011-3.MP4\n",
      "Copying folder /mnt/ntfisheriesstoreeastdev/labeledframes/Bathurst/Bathurst-20161010/BIH1B3-20161010-1.MP4\n",
      "Copying folder /mnt/ntfisheriesstoreeastdev/labeledframes/Bathurst/Bathurst-20161010/BIH2B3-20161010-2.MP4\n",
      "Copying folder /mnt/ntfisheriesstoreeastdev/labeledframes/Bathurst/Bathurst-20161010/BIH2B3-20161010-3.MP4\n",
      "Copying folder /mnt/ntfisheriesstoreeastdev/labeledframes/Bathurst/Bathurst-20161010/BOH3B2-20161011-2.MP4\n",
      "Copying folder /mnt/ntfisheriesstoreeastdev/labeledframes/Lorna/Lorna-20170705/LIS3B2-20170706-3.MP4\n",
      "Finished copying...\n"
     ]
    }
   ],
   "source": [
    "copy_frames(folders_train, output_model_training_train_path)"
   ]
  },
  {
   "cell_type": "code",
   "execution_count": 16,
   "metadata": {},
   "outputs": [
    {
     "name": "stdout",
     "output_type": "stream",
     "text": [
      "Copying folder /mnt/ntfisheriesstoreeastdev/labeledframes/Lorna/Lorna-20170705/LOS5B2-20170705-3.MP4\n",
      "Copying folder /mnt/ntfisheriesstoreeastdev/labeledframes/Lorna/Lorna-20170817/LIS2B4-20170817-1.MP4\n",
      "Copying folder /mnt/ntfisheriesstoreeastdev/labeledframes/Lorna/Lorna-20171030/LIS2B3-20171030-4.MP4\n",
      "Finished copying...\n"
     ]
    }
   ],
   "source": [
    "copy_frames(folders_validate, output_model_training_validate_path)"
   ]
  },
  {
   "cell_type": "code",
   "execution_count": null,
   "metadata": {},
   "outputs": [],
   "source": []
  }
 ],
 "metadata": {
  "kernelspec": {
   "display_name": "Python 3",
   "language": "python",
   "name": "python3"
  },
  "language_info": {
   "codemirror_mode": {
    "name": "ipython",
    "version": 3
   },
   "file_extension": ".py",
   "mimetype": "text/x-python",
   "name": "python",
   "nbconvert_exporter": "python",
   "pygments_lexer": "ipython3",
   "version": "3.5.4"
  }
 },
 "nbformat": 4,
 "nbformat_minor": 2
}
