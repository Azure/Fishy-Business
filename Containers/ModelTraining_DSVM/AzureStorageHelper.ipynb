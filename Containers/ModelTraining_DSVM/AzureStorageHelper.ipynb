{
 "cells": [
  {
   "cell_type": "code",
   "execution_count": 20,
   "metadata": {},
   "outputs": [],
   "source": [
    "import azure.storage.file.models, os, time\n",
    "from azure.storage.file import FileService"
   ]
  },
  {
   "cell_type": "code",
   "execution_count": 21,
   "metadata": {},
   "outputs": [],
   "source": [
    "account_name=\"ntfisheriesstoreeastdev\"\n",
    "account_key=\"M8KfGcKvH49vaSyn/6xhsTkvrvZ6zjFVM/3Er6s0z3+PH89fKNf3F20kgLCzgnU+5IouIvMTCP2BHjBRjvUkww==\"\n",
    "model_training_share =\"modeltraining\"\n",
    "model_weights_share = 'modelweights'"
   ]
  },
  {
   "cell_type": "code",
   "execution_count": 22,
   "metadata": {},
   "outputs": [],
   "source": [
    "file_service = FileService(account_name=account_name, account_key=account_key)"
   ]
  },
  {
   "cell_type": "code",
   "execution_count": 23,
   "metadata": {},
   "outputs": [],
   "source": [
    "if not file_service.exists(model_training_share):\n",
    "    file_service.create_share(model_training_share)"
   ]
  },
  {
   "cell_type": "code",
   "execution_count": 24,
   "metadata": {},
   "outputs": [],
   "source": [
    "if file_service.exists(model_weights_share):\n",
    "    file_service.create_share(model_weights_share)"
   ]
  },
  {
   "cell_type": "code",
   "execution_count": 25,
   "metadata": {},
   "outputs": [],
   "source": [
    "def download_file(share_name, directory_name, file_name, file_path, overwrite=False):\n",
    "    if(not os.path.exists(file_path) or overwrite):\n",
    "        print(\"Copying to %s\" %file_path)\n",
    "        file_service.get_file_to_path(share_name, directory_name, file_name, file_path, open_mode='wb')"
   ]
  },
  {
   "cell_type": "code",
   "execution_count": 26,
   "metadata": {},
   "outputs": [],
   "source": [
    "def download_files(share_name, directory_name, download_path, overwrite=False):\n",
    "    if not os.path.exists(download_path):\n",
    "        os.makedirs(download_path)\n",
    "        \n",
    "    generator = file_service.list_directories_and_files(share_name, directory_name)\n",
    "    \n",
    "    for file_or_dir in generator:\n",
    "        file_path = os.path.join(download_path, file_or_dir.name)\n",
    "        if(not os.path.exists(file_path) or overwrite):\n",
    "            print(\"Copying to %s\" %file_path)\n",
    "            file_service.get_file_to_path(share_name, directory_name, file_name= file_or_dir.name, file_path=file_path, open_mode='wb')"
   ]
  },
  {
   "cell_type": "code",
   "execution_count": 27,
   "metadata": {},
   "outputs": [],
   "source": [
    "def list_files(share_name, directory_name=None):\n",
    "    generator = file_service.list_directories_and_files(share_name, directory_name)\n",
    "\n",
    "    for file_or_dir in generator:\n",
    "        print(file_or_dir.name)"
   ]
  },
  {
   "cell_type": "code",
   "execution_count": 28,
   "metadata": {},
   "outputs": [],
   "source": [
    "def upload_files(path, share_folder, overwrite=False):\n",
    "     for root, dirs, files in os.walk(path):\n",
    "            for file in files:\n",
    "                sections = (root.split('/'))\n",
    "                parent = sections[-1]\n",
    "                file_service.create_directory(share_folder, parent)\n",
    "                if(overwrite or not file_service.exists(share_folder, directory_name=parent, file_name=file)):\n",
    "                    print(\"Uploading %s parent:%s file:%s\" %(root, parent, file))\n",
    "                    file_service.create_file_from_path(share_name=share_folder,\n",
    "                                                       directory_name=parent,\n",
    "                                                       file_name=file,\n",
    "                                                       local_file_path=os.path.join(root,file))"
   ]
  }
 ],
 "metadata": {
  "kernelspec": {
   "display_name": "Python 3",
   "language": "python",
   "name": "python3"
  },
  "language_info": {
   "codemirror_mode": {
    "name": "ipython",
    "version": 3
   },
   "file_extension": ".py",
   "mimetype": "text/x-python",
   "name": "python",
   "nbconvert_exporter": "python",
   "pygments_lexer": "ipython3",
   "version": "3.5.2"
  }
 },
 "nbformat": 4,
 "nbformat_minor": 2
}
