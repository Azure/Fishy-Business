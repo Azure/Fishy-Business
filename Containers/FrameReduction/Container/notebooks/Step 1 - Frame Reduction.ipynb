{
 "cells": [
  {
   "cell_type": "code",
   "execution_count": null,
   "metadata": {
    "scrolled": true
   },
   "outputs": [],
   "source": [
    "import logging, os, sys\n",
    "from src import common, analyze_frames, extract_frames, list_videos"
   ]
  },
  {
   "cell_type": "code",
   "execution_count": null,
   "metadata": {},
   "outputs": [],
   "source": [
    "%load_ext autoreload\n",
    "%autoreload 2"
   ]
  },
  {
   "cell_type": "code",
   "execution_count": null,
   "metadata": {},
   "outputs": [],
   "source": [
    "# Cognitive Service - Computer Vision configuration\n",
    "os.environ[\"COMPUTERVISION_URL\"] = 'https://australiaeast.api.cognitive.microsoft.com/vision/v2.0/''\n",
    "os.environ[\"COMPUTERVISION_KEY\"] = ''\n",
    "\n",
    "# Length of the left edge of the image for resizing maintaining aspect ratio\n",
    "os.environ[\"SIZE_LEFT_EDGE\"] = '1080'\n",
    "\n",
    "# How often (in seconds) is a frames  extracted from video\n",
    "os.environ[\"EXTRACT_PER_SECOND\"] = '5'\n",
    "\n",
    "# Folder containing unprocessed video\n",
    "os.environ[\"UNPROCESSED_VIDEO\"] = '/mnt/video/unprocessed'\n",
    "\n",
    "# Folder containing frames extracted from video\n",
    "os.environ[\"EXTRACTED_FRAMES\"] = '/mnt/frames'\n",
    "\n",
    "# Logging\n",
    "logger = logging.getLogger()\n",
    "logging.basicConfig(level=logging.DEBUG) ## INFO, WARN, DEBUG"
   ]
  },
  {
   "cell_type": "code",
   "execution_count": null,
   "metadata": {
    "scrolled": true
   },
   "outputs": [],
   "source": [
    "list_videos.main()"
   ]
  },
  {
   "cell_type": "code",
   "execution_count": null,
   "metadata": {
    "scrolled": true
   },
   "outputs": [],
   "source": [
    "extract_frames.main()"
   ]
  },
  {
   "cell_type": "code",
   "execution_count": null,
   "metadata": {
    "scrolled": true
   },
   "outputs": [],
   "source": [
    "analyze_frames.main()"
   ]
  },
  {
   "cell_type": "code",
   "execution_count": null,
   "metadata": {},
   "outputs": [],
   "source": []
  }
 ],
 "metadata": {
  "kernelspec": {
   "display_name": "Python 3",
   "language": "python",
   "name": "python3"
  },
  "language_info": {
   "codemirror_mode": {
    "name": "ipython",
    "version": 3
   },
   "file_extension": ".py",
   "mimetype": "text/x-python",
   "name": "python",
   "nbconvert_exporter": "python",
   "pygments_lexer": "ipython3",
   "version": "3.7.0"
  }
 },
 "nbformat": 4,
 "nbformat_minor": 2
}
